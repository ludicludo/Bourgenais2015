{
 "cells": [
  {
   "cell_type": "markdown",
   "metadata": {
    "slideshow": {
     "slide_type": "slide"
    }
   },
   "source": [
    "# Prise en main de SimpleITK\n",
    "**[SimpleITK](http://www.simpleitk.org)** est une bibliothèque visant à faciliter l'utilisation de la bibliothèque [ITK](http://www.itk.org) en cachant sa relative complexité pour les profanes du c++ et en offrant des fonctionnalités de scripting avancées pour des languages tels que [python](http://www.python.org) ou [java]().\n",
    "\n",
    "Ce premier document constitue une introduction au format des images au sein de SimpleITK.\n",
    "\n",
    "## La base\n",
    "Pour commencer, nous importons le module *SimpleITK* dans l'espace de nommage."
   ]
  },
  {
   "cell_type": "code",
   "execution_count": 2,
   "metadata": {
    "collapsed": true,
    "slideshow": {
     "slide_type": "subslide"
    }
   },
   "outputs": [],
   "source": [
    "import SimpleITK as sitk"
   ]
  },
  {
   "cell_type": "markdown",
   "metadata": {
    "slideshow": {
     "slide_type": "subslide"
    }
   },
   "source": [
    "## Construction d'un image\n",
    "Il existe plusieurs façons de créer une image ex nihilo dans ITK. Par exemple:"
   ]
  },
  {
   "cell_type": "code",
   "execution_count": 3,
   "metadata": {
    "collapsed": true,
    "slideshow": {
     "slide_type": "subslide"
    }
   },
   "outputs": [],
   "source": [
    "image = sitk.Image(256, 128, 64, sitk.sitkInt16)\n",
    "image_2D = sitk.Image(64, 64, sitk.sitkFloat32)\n",
    "image_2D = sitk.Image([32,32], sitk.sitkUInt32)\n",
    "image_RGB = sitk.Image([128,128], sitk.sitkVectorUInt8, 3)"
   ]
  },
  {
   "cell_type": "markdown",
   "metadata": {
    "slideshow": {
     "slide_type": "subslide"
    }
   },
   "source": [
    "#### Les types de pixels\n",
    "\n",
    "Voici la liste de tous les types d'images qu'il est possible de construire à l'aide d'ITK\n",
    "\n",
    "<table>\n",
    "  <tr><td>sitkUInt8</td><td>Unsigned 8 bit integer</td></tr>\n",
    "  <tr><td>sitkInt8</td><td>Signed 8 bit integer</td></tr>\n",
    "  <tr><td>sitkUInt16</td><td>Unsigned 16 bit integer</td></tr>\n",
    "  <tr><td>sitkInt16</td><td>Signed 16 bit integer</td></tr>\n",
    "  <tr><td>sitkUInt32</td><td>Unsigned 32 bit integer</td></tr>\n",
    "  <tr><td>sitkInt32</td><td>Signed 32 bit integer</td></tr>\n",
    "  <tr><td>sitkUInt64</td><td>Unsigned 64 bit integer</td></tr>\n",
    "  <tr><td>sitkInt64</td><td>Signed 64 bit integer</td></tr>\n",
    "  <tr><td>sitkFloat32</td><td>32 bit float</td></tr>\n",
    "  <tr><td>sitkFloat64</td><td>64 bit float</td></tr>\n",
    "  <tr><td>sitkComplexFloat32</td><td>complex number of 32 bit float</td></tr>\n",
    "  <tr><td>sitkComplexFloat64</td><td>complex number of 64 bit float</td></tr>\n",
    "  <tr><td>sitkVectorUInt8</td><td>Multi-component of unsigned 8 bit integer</td></tr>\n",
    "  <tr><td>sitkVectorInt8</td><td>Multi-component of signed 8 bit integer</td></tr>\n",
    "  <tr><td>sitkVectorUInt16</td><td>Multi-component of unsigned 16 bit integer</td></tr>\n",
    "  <tr><td>sitkVectorInt16</td><td>Multi-component of signed 16 bit integer</td></tr>\n",
    "  <tr><td>sitkVectorUInt32</td><td>Multi-component of unsigned 32 bit integer</td></tr>\n",
    "  <tr><td>sitkVectorInt32</td><td>Multi-component of signed 32 bit integer</td></tr>\n",
    "  <tr><td>sitkVectorUInt64</td><td>Multi-component of unsigned 64 bit integer</td></tr>\n",
    "  <tr><td>sitkVectorInt64</td><td>Multi-component of signed 64 bit integer</td></tr>\n",
    "  <tr><td>sitkVectorFloat32</td><td>Multi-component of 32 bit float</td></tr>\n",
    "  <tr><td>sitkVectorFloat64</td><td>Multi-component of 64 bit float</td></tr>\n",
    "  <tr><td>sitkLabelUInt8</td><td>RLE label of unsigned 8 bit integers</td></tr>\n",
    "  <tr><td>sitkLabelUInt16</td><td>RLE label of unsigned 16 bit integers</td></tr>\n",
    "  <tr><td>sitkLabelUInt32</td><td>RLE label of unsigned 32 bit integers</td></tr>\n",
    "  <tr><td>sitkLabelUInt64</td><td>RLE label of unsigned 64 bit integers</td></tr>\n",
    "</table>\n",
    "\n",
    "Il existe aussi `sitkUnknown`, qui est utilisé pour des types de pixel inconnus ou bien erroné au momment de l'exécution. La valeur est égale à -1.\n",
    "Les type entier de 64-bit ne sont pas disponibles sur tous les systèmes. Dans ce cas précis, la valeur est attribuée à `sitkUnknown`."
   ]
  },
  {
   "cell_type": "markdown",
   "metadata": {
    "slideshow": {
     "slide_type": "slide"
    }
   },
   "source": [
    "Par convention, les indices des images commencent à 0. Par convention, SimpleITK à l'instar d'ITK considère que **les images sont des objets physiques qui occupent une région close dans un espace physique**. Ce concept est illustré par la figure suivante :\n",
    "![origine](./ImageOriginAndSpacing.png)\n",
    "\n",
    "Les composants suivants sont nécessaires pour définir complètement une image :\n",
    "1. Le type de pixel [défini à la création, pas de valeur par défaut] : pour la liste complète voir au dessus.\n",
    "2. Les dimensions [défini à la création, pas de valeur par défaut] : le nombre de pixels/voxels dans chaque direction. Cela définit les dimensions de l'image.\n",
    "3. L'origine [par défaut 0] : coordonnée du pixel/voxel ayant l'indice (0,0,0) en unité physique (mm).\n",
    "4. L'espacement [par défaut 1] : distance en mm séparant 2 pixels/voxels adjacents dans chaque dimension.\n",
    "5. Matrice des directions [par défaut la matrice identité] : matrice liant les vecteurs directeurs de l'image et les axes des coordonnées physiques. \n"
   ]
  },
  {
   "cell_type": "markdown",
   "metadata": {
    "slideshow": {
     "slide_type": "slide"
    }
   },
   "source": [
    "## Ouverture d'un fichier\n",
    "Pour ouvrir une image d'un fichier présent sur le disque, il existe une fonction ```ReadImage```."
   ]
  },
  {
   "cell_type": "code",
   "execution_count": 4,
   "metadata": {
    "collapsed": false,
    "slideshow": {
     "slide_type": "subslide"
    }
   },
   "outputs": [
    {
     "name": "stdout",
     "output_type": "stream",
     "text": [
      "Help on function ReadImage in module SimpleITK.SimpleITK:\n",
      "\n",
      "ReadImage(*args)\n",
      "    ReadImage(VectorString fileNames, itk::simple::PixelIDValueEnum outputPixelType) -> Image\n",
      "    ReadImage(std::string filename, itk::simple::PixelIDValueEnum outputPixelType) -> Image\n",
      "\n"
     ]
    }
   ],
   "source": [
    "help(sitk.ReadImage)"
   ]
  },
  {
   "cell_type": "markdown",
   "metadata": {
    "slideshow": {
     "slide_type": "subslide"
    }
   },
   "source": [
    "## Accéder aux attributs des images\n",
    "Il est très simple d'accèder aux principales informations des images. "
   ]
  },
  {
   "cell_type": "code",
   "execution_count": 5,
   "metadata": {
    "collapsed": false,
    "slideshow": {
     "slide_type": "subslide"
    }
   },
   "outputs": [
    {
     "name": "stdout",
     "output_type": "stream",
     "text": [
      "(256, 128, 64)\n",
      "(0.0, 0.0, 0.0)\n",
      "(1.0, 1.0, 1.0)\n",
      "(1.0, 0.0, 0.0, 0.0, 1.0, 0.0, 0.0, 0.0, 1.0)\n",
      "1\n"
     ]
    }
   ],
   "source": [
    "print image.GetSize()\n",
    "print image.GetOrigin()\n",
    "print image.GetSpacing()\n",
    "print image.GetDirection()\n",
    "print image.GetNumberOfComponentsPerPixel()"
   ]
  },
  {
   "cell_type": "markdown",
   "metadata": {
    "slideshow": {
     "slide_type": "subslide"
    }
   },
   "source": [
    "Les dimensions des images sont facilement accessibles :"
   ]
  },
  {
   "cell_type": "code",
   "execution_count": 6,
   "metadata": {
    "collapsed": false,
    "slideshow": {
     "slide_type": "subslide"
    }
   },
   "outputs": [
    {
     "name": "stdout",
     "output_type": "stream",
     "text": [
      "256 128 64\n",
      "256 128 64\n",
      "(32, 32) 0\n"
     ]
    }
   ],
   "source": [
    "print image.GetWidth(), image.GetHeight(), image.GetDepth()\n",
    "print image.GetSize()[0],image.GetSize()[1], image.GetSize()[2]\n",
    "print image_2D.GetSize(), image_2D.GetDepth()"
   ]
  },
  {
   "cell_type": "markdown",
   "metadata": {
    "slideshow": {
     "slide_type": "slide"
    }
   },
   "source": [
    "## Accéder aux valeurs des pixels\n",
    "Il est possible d'accéder aux contenus des pixels grâce aux fonctions SetPixel et GetPixel."
   ]
  },
  {
   "cell_type": "code",
   "execution_count": 7,
   "metadata": {
    "collapsed": false,
    "slideshow": {
     "slide_type": "subslide"
    }
   },
   "outputs": [
    {
     "name": "stdout",
     "output_type": "stream",
     "text": [
      "Help on method GetPixel in module SimpleITK.SimpleITK:\n",
      "\n",
      "GetPixel(self, *idx) method of SimpleITK.SimpleITK.Image instance\n",
      "    Returns the value of a pixel.\n",
      "    \n",
      "    This method takes 2 parameters in 2D: the x and y index,\n",
      "    and 3 parameters in 3D: the x, y and z index.\n",
      "\n"
     ]
    }
   ],
   "source": [
    "help(image.GetPixel)"
   ]
  },
  {
   "cell_type": "code",
   "execution_count": 8,
   "metadata": {
    "collapsed": false,
    "slideshow": {
     "slide_type": "subslide"
    }
   },
   "outputs": [
    {
     "name": "stdout",
     "output_type": "stream",
     "text": [
      "0\n",
      "1\n"
     ]
    }
   ],
   "source": [
    "print image.GetPixel(0, 0, 0)\n",
    "image.SetPixel(0, 0, 0, 1)\n",
    "print image.GetPixel(0, 0, 0)"
   ]
  },
  {
   "cell_type": "markdown",
   "metadata": {
    "slideshow": {
     "slide_type": "subslide"
    }
   },
   "source": [
    "On peut aussi utiliser une façon plus commune à différents language de programmation :"
   ]
  },
  {
   "cell_type": "code",
   "execution_count": 9,
   "metadata": {
    "collapsed": false,
    "slideshow": {
     "slide_type": "subslide"
    }
   },
   "outputs": [
    {
     "name": "stdout",
     "output_type": "stream",
     "text": [
      "1\n",
      "10\n"
     ]
    }
   ],
   "source": [
    "print image[0,0,0]\n",
    "image[0,0,0] = 10\n",
    "print image[0,0,0]"
   ]
  },
  {
   "cell_type": "markdown",
   "metadata": {
    "slideshow": {
     "slide_type": "slide"
    }
   },
   "source": [
    "## Affichage d'une image\n",
    "La fonction `Show` permet d'afficher l'image passée en paramètre à la fonction. Par défaut, le système cherchera à utiliser le logiciel *[ImageJ](http://imagej.nih.gov/ij/)* présent sur votre système. Il est possible de changer ce comportement par défaut en assignant la variable d'environnement `SITK_SHOW_COMMAND` sur une autre application permettant de visualiser les images ([`ITK-SNAP`](http://www.itksnap.org), [`3D Slicer`](www.slicer.org))."
   ]
  },
  {
   "cell_type": "markdown",
   "metadata": {
    "slideshow": {
     "slide_type": "subslide"
    }
   },
   "source": [
    "### Exercice 1\n",
    "____\n",
    "1. Chargez l'image ```Proj_fantome.dcm``` et déterminer le nombre de pixels, la profondeur, l'origine. \n",
    "2. Visualisez l'image. Que représente cette image selon vous ?"
   ]
  },
  {
   "cell_type": "code",
   "execution_count": 10,
   "metadata": {
    "collapsed": false,
    "correction": true,
    "slideshow": {
     "slide_type": "skip"
    }
   },
   "outputs": [
    {
     "name": "stdout",
     "output_type": "stream",
     "text": [
      "les dimensions de l'image sont (128, 128, 360) et ensuite (4.41806, 4.41806, 1.0) l'espace\n",
      "L'espacement des voxels est (4.41806, 4.41806, 1.0)\n",
      "L'origine est (-281.84681, -280.44681, 280.54681)\n"
     ]
    }
   ],
   "source": [
    "dcm = sitk.ReadImage('./02_1_SimpleITKBasique/Proj_fantome.dcm')\n",
    "print \"les dimensions de l'image sont {0} et ensuite {1} l'espace\".format(dcm.GetSize(),dcm.GetSpacing())\n",
    "print \"L'espacement des voxels est {}\".format(dcm.GetSpacing())\n",
    "print \"L'origine est {}\".format(dcm.GetOrigin())\n",
    "#sitk.Show(dcm)"
   ]
  },
  {
   "cell_type": "markdown",
   "metadata": {
    "slideshow": {
     "slide_type": "slide"
    }
   },
   "source": [
    "____\n",
    "## Opérations basiques sur les images :\n",
    "On peut profiter des fonctionnalités python sur les listes pour réaliser des opérations telles que :\n",
    "1. le sous-échantillonnage\n",
    "2. la symétrie\n",
    "3. le \"cropping\""
   ]
  },
  {
   "cell_type": "markdown",
   "metadata": {
    "slideshow": {
     "slide_type": "subslide"
    }
   },
   "source": [
    "### Quelques notions intéressantes sur les listes en *python*\n"
   ]
  },
  {
   "cell_type": "code",
   "execution_count": 11,
   "metadata": {
    "collapsed": false,
    "slideshow": {
     "slide_type": "subslide"
    }
   },
   "outputs": [
    {
     "name": "stdout",
     "output_type": "stream",
     "text": [
      "['E', 'P', 'U']\n",
      "['S', 'I', 'A', 'N', 'E', 'G', 'R', 'U', 'O', 'B', '-', 'T', 'R', 'O', 'P', 'E', 'D', 'U', 'P', 'E']\n",
      "['E', 'U', 'E', 'O', 'T', 'B', 'U', 'G', 'N', 'I']\n",
      "['S', 'A', 'E', 'R', 'O', '-', 'R', 'P', 'D', 'P']\n"
     ]
    }
   ],
   "source": [
    "# une liste\n",
    "a=['E','P','U','D','E','P','O','R','T','-','B','O','U','R','G','E','N','A','I','S']\n",
    "# on peut prendre une tranche (une slice en jargon)\n",
    "print a[0:3]\n",
    "# on peut aussi inverser la liste facilement\n",
    "print a[::-1]\n",
    "# parcourir la liste avec un incrément fixé\n",
    "print a[::2]\n",
    "# et même à rebours\n",
    "print a[::-2]"
   ]
  },
  {
   "cell_type": "code",
   "execution_count": 12,
   "metadata": {
    "collapsed": false,
    "slideshow": {
     "slide_type": "subslide"
    }
   },
   "outputs": [],
   "source": [
    "dcm1 = dcm[::2,::2,:]\n",
    "dcm2 = dcm[::-1,:,:]\n",
    "dcm3 = dcm[40:90,:,:]\n",
    "\n",
    "sitk.Show(dcm3)\n",
    "sitk.Show(dcm2)\n",
    "sitk.Show(dcm1)"
   ]
  },
  {
   "cell_type": "markdown",
   "metadata": {
    "slideshow": {
     "slide_type": "subslide"
    }
   },
   "source": [
    "### Exercice 2\n",
    "___\n",
    "Extraire 6 images de 128x128 pixels et de 60 coupes contenant les informations de l'image dcm par incrément de 60 dans la direction de la profondeur.\n",
    "\n",
    "Les images seront respectivement nommées :  pic1, pic2, H_SC_pic2, H_SC_pic1, L_SC_pic2, L_SC_pic1\n",
    "\n",
    "Alternativement, vous pouvez aussi créer une liste qui contient les images mentionnées au-dessus."
   ]
  },
  {
   "cell_type": "markdown",
   "metadata": {
    "slideshow": {
     "slide_type": "skip"
    }
   },
   "source": [
    "----------\n",
    "### Correction :"
   ]
  },
  {
   "cell_type": "code",
   "execution_count": 13,
   "metadata": {
    "collapsed": false,
    "slideshow": {
     "slide_type": "skip"
    }
   },
   "outputs": [],
   "source": [
    "pic1 = dcm[:,:,0::60]\n",
    "pic2 = dcm[:,:,60:120]\n",
    "H_SC_pic2 = dcm[:,:,120:180]\n",
    "H_SC_pic1 = dcm[:,:,180:240]\n",
    "L_SC_pic2 = dcm[:,:,240:300]\n",
    "L_SC_pic1 = dcm[:,:,300:360]"
   ]
  },
  {
   "cell_type": "code",
   "execution_count": 14,
   "metadata": {
    "collapsed": false,
    "correction": true,
    "slideshow": {
     "slide_type": "skip"
    }
   },
   "outputs": [],
   "source": [
    "list_images = []\n",
    "for i in range(0,6):\n",
    "    list_images.append(dcm[:,:,60*i:60*i+60])\n",
    "    \n",
    "sitk.Show(list_images[0])"
   ]
  },
  {
   "cell_type": "markdown",
   "metadata": {
    "slideshow": {
     "slide_type": "slide"
    }
   },
   "source": [
    "## Opérations mathématiques au niveau pixel :\n",
    "Les opérations mathématiques qu'il est possible de réaliser avec SimpleITK sont listées dans le tableau suivant. Ces opérations sont réalisables entre 2 images ou une image et un scalaire.\n",
    "\n",
    "Si L'opération porte sur 2 images, elles doivent avoir le même type de pixel et L'image résultat est généralement de même type aussi.\n",
    "\n",
    "Attention, il est important de veiller au cas de dépassement de capacité et les divisions par zéro.\n",
    "\n",
    "<table>\n",
    "    <tr><td>Operateurs</td></tr>\n",
    "    <tr><td>+</td><td>Addition</td></tr>\n",
    "    <tr><td>-</td><td>Soustraction</td></tr>\n",
    "    <tr><td>\\*</td><td>Multiplication</td></tr>\n",
    "    <tr><td>/</td><td>Division</td></tr>\n",
    "    <tr><td>//</td><td>Division entière</td></tr>\n",
    "    <tr><td>**</td><td>Puissance</td></tr>\n",
    "<table>"
   ]
  },
  {
   "cell_type": "markdown",
   "metadata": {
    "slideshow": {
     "slide_type": "subslide"
    }
   },
   "source": [
    "### Exercice 3\n",
    "___\n",
    "Dans cette exercice, nous allons réaliser une correction de diffusion Compton sur le premier jeu d'images pic1 par la méthode de la triple fenêtre [[Ogawa91](http://dx.doi.org/10.1109/42.97591)]. \n",
    "\n",
    "Pour rappel, cette correction est décrite par la formule :\n",
    "$$ I_{corr} = I_0 - \\frac{(\\frac{I_1}{W_1}+\\frac{I_2}{W_2})\\cdot W_0}{2}$$\n",
    "où $I_0, I_1, I_2$ sont respectivement l'image non corrigée centrée sur le pic photoélectrique et les images obtenues sur les 2 fenêtres adjacentes au pic photoélectrique. $W_0, W_1$ et $W_2$ représentent les largeurs respectives en keV des 3 fenêtres en énergie.\n",
    "\n",
    "Pour information, les largeurs des fenêtres utilisées ont été :\n",
    "\n",
    "<table>\n",
    "  <tr><td>Fenêtre</td><td>Largeur en keV</td></tr>\n",
    "  <tr><td>$W_0$</td><td>17</td></tr>\n",
    "  <tr><td>$W_1$</td><td>8</td></tr>\n",
    "  <tr><td>$W_2$</td><td>8</td></tr>\n",
    "</table>"
   ]
  },
  {
   "cell_type": "code",
   "execution_count": 15,
   "metadata": {
    "collapsed": false,
    "slideshow": {
     "slide_type": "subslide"
    }
   },
   "outputs": [
    {
     "ename": "RuntimeError",
     "evalue": "Exception thrown in SimpleITK Add: /scratch/dashboards/SimpleITK-OSX10.6-intel-pkg/SimpleITK-build/ITK/Modules/Core/Common/include/itkImageToImageFilter.hxx:248:\nitk::ERROR: AddImageFilter(0x7ff8ac64d770): Inputs do not occupy the same physical space! \nInputImage Origin: [-2.8062155e+02, -1.0045098e+02, 2.8054681e+02], InputImage_1 Origin: [-2.7980471e+02, 1.9546240e+01, 2.8054681e+02]\n\tTolerance: 4.4180600e-06\n",
     "output_type": "error",
     "traceback": [
      "\u001b[0;31m---------------------------------------------------------------------------\u001b[0m",
      "\u001b[0;31mRuntimeError\u001b[0m                              Traceback (most recent call last)",
      "\u001b[0;32m<ipython-input-15-e2f52a96e7a9>\u001b[0m in \u001b[0;36m<module>\u001b[0;34m()\u001b[0m\n\u001b[1;32m      3\u001b[0m \u001b[0mI1\u001b[0m \u001b[0;34m=\u001b[0m \u001b[0mlist_images\u001b[0m\u001b[0;34m[\u001b[0m\u001b[0;36m5\u001b[0m\u001b[0;34m]\u001b[0m\u001b[0;34m\u001b[0m\u001b[0m\n\u001b[1;32m      4\u001b[0m \u001b[0;34m\u001b[0m\u001b[0m\n\u001b[0;32m----> 5\u001b[0;31m \u001b[0mICorr\u001b[0m \u001b[0;34m=\u001b[0m \u001b[0;34m(\u001b[0m\u001b[0mI2\u001b[0m\u001b[0;34m/\u001b[0m\u001b[0;36m8\u001b[0m \u001b[0;34m+\u001b[0m \u001b[0mI1\u001b[0m\u001b[0;34m/\u001b[0m\u001b[0;36m8\u001b[0m\u001b[0;34m)\u001b[0m\u001b[0;34m*\u001b[0m\u001b[0;36m17\u001b[0m\u001b[0;34m/\u001b[0m\u001b[0;36m2\u001b[0m\u001b[0;34m\u001b[0m\u001b[0m\n\u001b[0m",
      "\u001b[0;32m/opt/local/Library/Frameworks/Python.framework/Versions/2.7/lib/python2.7/site-packages/SimpleITK/SimpleITK.pyc\u001b[0m in \u001b[0;36m__add__\u001b[0;34m(self, other)\u001b[0m\n\u001b[1;32m   4065\u001b[0m     \u001b[0;32mdef\u001b[0m \u001b[0m__add__\u001b[0m\u001b[0;34m(\u001b[0m \u001b[0mself\u001b[0m\u001b[0;34m,\u001b[0m \u001b[0mother\u001b[0m \u001b[0;34m)\u001b[0m\u001b[0;34m:\u001b[0m\u001b[0;34m\u001b[0m\u001b[0m\n\u001b[1;32m   4066\u001b[0m         \u001b[0;32mif\u001b[0m \u001b[0misinstance\u001b[0m\u001b[0;34m(\u001b[0m \u001b[0mother\u001b[0m\u001b[0;34m,\u001b[0m \u001b[0mImage\u001b[0m \u001b[0;34m)\u001b[0m\u001b[0;34m:\u001b[0m\u001b[0;34m\u001b[0m\u001b[0m\n\u001b[0;32m-> 4067\u001b[0;31m            \u001b[0;32mreturn\u001b[0m \u001b[0mAdd\u001b[0m\u001b[0;34m(\u001b[0m \u001b[0mself\u001b[0m\u001b[0;34m,\u001b[0m \u001b[0mother\u001b[0m \u001b[0;34m)\u001b[0m\u001b[0;34m\u001b[0m\u001b[0m\n\u001b[0m\u001b[1;32m   4068\u001b[0m         \u001b[0;32mtry\u001b[0m\u001b[0;34m:\u001b[0m\u001b[0;34m\u001b[0m\u001b[0m\n\u001b[1;32m   4069\u001b[0m            \u001b[0;32mreturn\u001b[0m \u001b[0mAdd\u001b[0m\u001b[0;34m(\u001b[0m \u001b[0mself\u001b[0m\u001b[0;34m,\u001b[0m \u001b[0mfloat\u001b[0m\u001b[0;34m(\u001b[0m\u001b[0mother\u001b[0m\u001b[0;34m)\u001b[0m  \u001b[0;34m)\u001b[0m\u001b[0;34m\u001b[0m\u001b[0m\n",
      "\u001b[0;32m/opt/local/Library/Frameworks/Python.framework/Versions/2.7/lib/python2.7/site-packages/SimpleITK/SimpleITK.pyc\u001b[0m in \u001b[0;36mAdd\u001b[0;34m(*args)\u001b[0m\n\u001b[1;32m   9820\u001b[0m \u001b[0;34m\u001b[0m\u001b[0m\n\u001b[1;32m   9821\u001b[0m     \"\"\"\n\u001b[0;32m-> 9822\u001b[0;31m     \u001b[0;32mreturn\u001b[0m \u001b[0m_SimpleITK\u001b[0m\u001b[0;34m.\u001b[0m\u001b[0mAdd\u001b[0m\u001b[0;34m(\u001b[0m\u001b[0;34m*\u001b[0m\u001b[0margs\u001b[0m\u001b[0;34m)\u001b[0m\u001b[0;34m\u001b[0m\u001b[0m\n\u001b[0m\u001b[1;32m   9823\u001b[0m \u001b[0;32mclass\u001b[0m \u001b[0mAdditiveGaussianNoiseImageFilter\u001b[0m\u001b[0;34m(\u001b[0m\u001b[0mImageFilter_1\u001b[0m\u001b[0;34m)\u001b[0m\u001b[0;34m:\u001b[0m\u001b[0;34m\u001b[0m\u001b[0m\n\u001b[1;32m   9824\u001b[0m     \"\"\"\n",
      "\u001b[0;31mRuntimeError\u001b[0m: Exception thrown in SimpleITK Add: /scratch/dashboards/SimpleITK-OSX10.6-intel-pkg/SimpleITK-build/ITK/Modules/Core/Common/include/itkImageToImageFilter.hxx:248:\nitk::ERROR: AddImageFilter(0x7ff8ac64d770): Inputs do not occupy the same physical space! \nInputImage Origin: [-2.8062155e+02, -1.0045098e+02, 2.8054681e+02], InputImage_1 Origin: [-2.7980471e+02, 1.9546240e+01, 2.8054681e+02]\n\tTolerance: 4.4180600e-06\n"
     ]
    }
   ],
   "source": [
    "I0 = list_images[0]\n",
    "I2 = list_images[3]\n",
    "I1 = list_images[5]\n",
    "\n",
    "ICorr = (I2/8 + I1/8)*17/2"
   ]
  },
  {
   "cell_type": "markdown",
   "metadata": {
    "slideshow": {
     "slide_type": "subslide"
    }
   },
   "source": [
    "Vous obtenez une erreur. Pourquoi ? Quelle solution proposeriez-vous ?"
   ]
  },
  {
   "cell_type": "code",
   "execution_count": null,
   "metadata": {
    "collapsed": false,
    "correction": true,
    "slideshow": {
     "slide_type": "skip"
    }
   },
   "outputs": [],
   "source": [
    "I0.SetOrigin([0,0,0])\n",
    "I1.SetOrigin([0,0,0])\n",
    "I2.SetOrigin([0,0,0])\n",
    "\n",
    "ICorr = I0 - (I2/8.0 + I1/8.0)*(17.0/2.0)\n",
    "\n",
    "sitk.Show(ICorr,\"ICorr\")"
   ]
  },
  {
   "cell_type": "markdown",
   "metadata": {
    "slideshow": {
     "slide_type": "subslide"
    }
   },
   "source": [
    "Est-ce que le résultat obtenu vous satisfait ? Qu'est ce qui selon vous est responsable de ce résultat ? Quelle solution proposez-vous ?"
   ]
  },
  {
   "cell_type": "code",
   "execution_count": null,
   "metadata": {
    "collapsed": true,
    "correction": true,
    "slideshow": {
     "slide_type": "skip"
    }
   },
   "outputs": [],
   "source": [
    "I2 = sitk.Cast(I2,sitk.sitkFloat32)\n",
    "I1 = sitk.Cast(I1,sitk.sitkFloat32)\n",
    "I0 = sitk.Cast(I0,sitk.sitkFloat32)\n",
    "\n",
    "ICorr = I0 - (I2/8.0 + I1/8.0)*(17.0/2.0)\n",
    "\n",
    "sitk.Show(ICorr,\"ICorr\")\n",
    "sitk.Show(I0,\"I0\")"
   ]
  },
  {
   "cell_type": "markdown",
   "metadata": {
    "slideshow": {
     "slide_type": "subslide"
    }
   },
   "source": [
    "Quelle est la valeur minimale dans vos images ? Est-ce normal ? "
   ]
  },
  {
   "cell_type": "code",
   "execution_count": null,
   "metadata": {
    "collapsed": false,
    "correction": true,
    "slideshow": {
     "slide_type": "skip"
    }
   },
   "outputs": [],
   "source": [
    " sitk.Show(ICorr*sitk.Cast(ICorr > 0, sitk.sitkFloat32),\"ICorr2\")"
   ]
  },
  {
   "cell_type": "markdown",
   "metadata": {
    "slideshow": {
     "slide_type": "skip"
    }
   },
   "source": [
    "## La transparence\n",
    "____\n",
    "La transparence (alpha blending) est une méthode qui permet de superposer 2 images, $I_{A}$ et $I_{D}$. La transparence entre les 2 images est contrôlée par une valeur appelée *facteur alpha* de telle sorte que :\n",
    "$$ I^\\prime(\\mathcal{u,v}) \\leftarrow \\alpha \\cdot I_{A}(\\mathcal{u,v}) + (1-\\alpha) \\cdot I_{D}(\\mathcal{u,v})$$\n",
    "où $ 0. \\le \\alpha \\le 1.$"
   ]
  },
  {
   "cell_type": "markdown",
   "metadata": {
    "exercice": true,
    "slideshow": {
     "slide_type": "skip"
    }
   },
   "source": [
    "### Exercice 4 \n",
    "Créer une image supperposant 2 autres images."
   ]
  }
 ],
 "metadata": {
  "celltoolbar": "Slideshow",
  "kernelspec": {
   "display_name": "Python 2",
   "language": "python",
   "name": "python2"
  },
  "language_info": {
   "codemirror_mode": {
    "name": "ipython",
    "version": 2
   },
   "file_extension": ".py",
   "mimetype": "text/x-python",
   "name": "python",
   "nbconvert_exporter": "python",
   "pygments_lexer": "ipython2",
   "version": "2.7.9"
  }
 },
 "nbformat": 4,
 "nbformat_minor": 0
}
