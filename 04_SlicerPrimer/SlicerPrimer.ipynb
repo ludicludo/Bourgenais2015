{
 "cells": [
  {
   "cell_type": "markdown",
   "metadata": {
    "collapsed": true,
    "slideshow": {
     "slide_type": "slide"
    }
   },
   "source": [
    "# 3D Slicer\n",
    "# Première utilisation"
   ]
  },
  {
   "cell_type": "code",
   "execution_count": 16,
   "metadata": {
    "collapsed": false,
    "scrolled": true,
    "slideshow": {
     "slide_type": "subslide"
    }
   },
   "outputs": [
    {
     "data": {
      "text/html": [
       "\n",
       "        <iframe\n",
       "            width=\"900\"\n",
       "            height=\"400\"\n",
       "            src=\"http://www.slicer.org/\"\n",
       "            frameborder=\"0\"\n",
       "            allowfullscreen\n",
       "        ></iframe>\n",
       "        "
      ],
      "text/plain": [
       "<IPython.lib.display.IFrame at 0x10bbfbbd0>"
      ]
     },
     "execution_count": 16,
     "metadata": {},
     "output_type": "execute_result"
    }
   ],
   "source": [
    "from IPython.display import IFrame, HTML\n",
    "IFrame('http://www.slicer.org/',900,400)"
   ]
  },
  {
   "cell_type": "markdown",
   "metadata": {},
   "source": [
    "*Slicer* est un outil de visualisation et de traitement d'images multiplateforme (Windows, OSX, Linux), opensource (BSD-like). De nombreux atouts :\n",
    "* Compatible DICOM\n",
    "    - GDCM, dcmtk (connexion à PACS possible)\n",
    "* Segmentation interactive\n",
    "* Rendu volumique\n",
    "* Recalage rigide et déformable\n",
    "* Capture d'écran\n",
    "* 4D\n",
    "* Extensible par le biais de `plugins`."
   ]
  },
  {
   "cell_type": "markdown",
   "metadata": {
    "slideshow": {
     "slide_type": "slide"
    }
   },
   "source": [
    "# L'interface graphique\n",
    "L'interface graphique se décompose en plusieurs zones dont la disposition est configurable: \n",
    "* La vue 3D\n",
    "* les vues 2D dans les 3 plans (rouge,jaune et verte dans la terminologie *slicer)*\n",
    "* une barre d'outils\n",
    "    - chargement/sauvegarde\n",
    "    - selection des modules de traitement\n",
    "    - ...\n",
    "* un panneau de control des modules actifs\n",
    "* un panneau d'affichage des valeurs pointées par la souris \n",
    "* une barre des messages\n",
    "\n",
    "\n",
    "![Slicer1](./Slicer1.png)"
   ]
  },
  {
   "cell_type": "markdown",
   "metadata": {
    "slideshow": {
     "slide_type": "slide"
    }
   },
   "source": [
    "## Formats de fichiers\n",
    "Les formats de fichiers reconnus par *slicer* en lecture/ecriture sont ceux utilisés par *[ITK](http://www.itk.org)*. Pour une liste complète des formats de fichiers lisibles par *ITK*, vous pouvez regarder [là](http://www.itk.org/Wiki/ITK/File_Formats). \n",
    "\n",
    "Il est aussi possible de lire directement les fichiers **dicom**, voire même de mettre en place un service dicom  `storescu` (nous n'utiliserons pas cette fonctionnalité toutefois). "
   ]
  },
  {
   "cell_type": "markdown",
   "metadata": {
    "slideshow": {
     "slide_type": "subslide"
    }
   },
   "source": [
    "## Chargement d'images\n",
    "La vidéo suivante vous montre comment ouvrir un fichier image 3D situé dans un des répertoires de votre système et comment se déplacer dans les 3 plans. \n",
    "\n",
    "La vidéo montre aussi comment créer des lignes de visualisation des 3 plans de coupes dans chacune des vues (rouge, jaune, vert)."
   ]
  },
  {
   "cell_type": "code",
   "execution_count": 17,
   "metadata": {
    "collapsed": false,
    "scrolled": true,
    "slideshow": {
     "slide_type": "subslide"
    }
   },
   "outputs": [
    {
     "data": {
      "text/html": [
       "\n",
       "<video width=\"640\" height=\"480\" controls>\n",
       "  <source src=\"./slicerInit.mp4\" type=\"video/mp4\">\n",
       "</video>\n"
      ],
      "text/plain": [
       "<IPython.core.display.HTML object>"
      ]
     },
     "execution_count": 17,
     "metadata": {},
     "output_type": "execute_result"
    }
   ],
   "source": [
    "HTML(\"\"\"\n",
    "<video width=\"640\" height=\"480\" controls>\n",
    "  <source src=\"./slicerInit.mp4\" type=\"video/mp4\">\n",
    "</video>\n",
    "\"\"\")"
   ]
  },
  {
   "cell_type": "markdown",
   "metadata": {
    "slideshow": {
     "slide_type": "subslide"
    }
   },
   "source": [
    "## Les modules et extensions\n",
    "il existe des dizaines de modules/extensions livrés par défaut avec *slicer* mais il est possible d'aller en chercher d'autres qui ont été développés par des équipes de chercheurs pour leurs besoins et qui ont mis leur developpement en libre accès. La vidéo suivante vous montre la liste des modules existants et comment aller en chercher de nouveaux par le biais de l'`Extension manager`."
   ]
  },
  {
   "cell_type": "code",
   "execution_count": 12,
   "metadata": {
    "collapsed": false,
    "slideshow": {
     "slide_type": "subslide"
    }
   },
   "outputs": [
    {
     "data": {
      "text/html": [
       "\n",
       "<video width=\"640\" height=\"480\" controls>\n",
       "  <source src=\"./slicerModules.mp4\" type=\"video/mp4\">\n",
       "</video>\n"
      ],
      "text/plain": [
       "<IPython.core.display.HTML object>"
      ]
     },
     "execution_count": 12,
     "metadata": {},
     "output_type": "execute_result"
    }
   ],
   "source": [
    "HTML(\"\"\"\n",
    "<video width=\"640\" height=\"480\" controls>\n",
    "  <source src=\"./slicerModules.mp4\" type=\"video/mp4\">\n",
    "</video>\n",
    "\"\"\")"
   ]
  },
  {
   "cell_type": "markdown",
   "metadata": {},
   "source": [
    "## Images en avant et arrière plan.\n",
    "\n",
    "Il est possible avec Slicer de faire de la superposition d'images grâce à des couches d'avant et arrière-plan. Il suffit de charger les 2 jeux de données dans l'espace de travail de Slicer comme le montre la vidéo suivante. Pour faciliter la visualisation des 2 images d'avant et d'arrière-plan, on change les tables de couleurs des 2 images."
   ]
  },
  {
   "cell_type": "code",
   "execution_count": 13,
   "metadata": {
    "collapsed": false
   },
   "outputs": [
    {
     "data": {
      "text/html": [
       "\n",
       "<video width=\"640\" height=\"480\" controls>\n",
       "  <source src=\"./slicerForeBackGround.mp4\" type=\"video/mp4\">\n",
       "</video>\n"
      ],
      "text/plain": [
       "<IPython.core.display.HTML object>"
      ]
     },
     "execution_count": 13,
     "metadata": {},
     "output_type": "execute_result"
    }
   ],
   "source": [
    "HTML(\"\"\"\n",
    "<video width=\"640\" height=\"480\" controls>\n",
    "  <source src=\"./slicerForeBackGround.mp4\" type=\"video/mp4\">\n",
    "</video>\n",
    "\"\"\")"
   ]
  },
  {
   "cell_type": "markdown",
   "metadata": {},
   "source": [
    "## Image labelisée\n",
    "Dans slicer, les images en label ou segmentées s'affichent dans un canal particulier le `label layer`. Dans la courte vidéo suivante, on superpose une image à une image segmentée et on modifie certains paramètres de l'image labelisée comme la transparence."
   ]
  },
  {
   "cell_type": "code",
   "execution_count": 14,
   "metadata": {
    "collapsed": false
   },
   "outputs": [
    {
     "data": {
      "text/html": [
       "\n",
       "<video width=\"640\" height=\"480\" controls>\n",
       "  <source src=\"./slicerLabelchannel.mp4\" type=\"video/mp4\">\n",
       "</video>\n"
      ],
      "text/plain": [
       "<IPython.core.display.HTML object>"
      ]
     },
     "execution_count": 14,
     "metadata": {},
     "output_type": "execute_result"
    }
   ],
   "source": [
    "HTML(\"\"\"\n",
    "<video width=\"640\" height=\"480\" controls>\n",
    "  <source src=\"./slicerLabelchannel.mp4\" type=\"video/mp4\">\n",
    "</video>\n",
    "\"\"\")"
   ]
  },
  {
   "cell_type": "markdown",
   "metadata": {},
   "source": [
    "## Comment segmenter une image \n",
    "Nous allons utiliser différents outils fournis dans le module `editor` pour réaliser une première segmentation d'un volume :\n",
    "* seuillage\n",
    "* érosion-dilatation\n",
    "* connectivité à l'image de label\n",
    "* remplissage des trous dans l'image en label\n",
    "* gommage"
   ]
  },
  {
   "cell_type": "code",
   "execution_count": 18,
   "metadata": {
    "collapsed": false
   },
   "outputs": [
    {
     "data": {
      "text/html": [
       "\n",
       "<video width=\"640\" height=\"480\" controls>\n",
       "  <source src=\"./slicerLabelCreate1.mp4\" type=\"video/mp4\">\n",
       "</video>\n"
      ],
      "text/plain": [
       "<IPython.core.display.HTML object>"
      ]
     },
     "execution_count": 18,
     "metadata": {},
     "output_type": "execute_result"
    }
   ],
   "source": [
    "HTML(\"\"\"\n",
    "<video width=\"640\" height=\"480\" controls>\n",
    "  <source src=\"./slicerLabelCreate1.mp4\" type=\"video/mp4\">\n",
    "</video>\n",
    "\"\"\")"
   ]
  },
  {
   "cell_type": "markdown",
   "metadata": {},
   "source": [
    "## Segmenter par croissance de région\n",
    "Dans cet exemple, nous allons utiliser la fonctionnalité de croissance de région qui utilise l'algorithme *ITK* `Confidence Connected Image Filter`. Cet algorithme segmente les images à partir d'un simple calcul de la médiane au sein d'une région et par accroissement de cette région par des paramètres de controle tels que le nombre d'écart-type (donne les bornes des valeurs acceptables autour de la médiane), le nombre d'itération donne le nombre de fois que la médiane et l'écart-type sont recalculés et l'algorithme effectué et le rayon correpond à la distance (pixel) à laquelle l'algorithme cherche les valeurs autour de la position initiale."
   ]
  },
  {
   "cell_type": "code",
   "execution_count": 20,
   "metadata": {
    "collapsed": false
   },
   "outputs": [
    {
     "data": {
      "text/html": [
       "\n",
       "<video width=\"640\" height=\"480\" controls>\n",
       "  <source src=\"./slicerRegionGrowing.mp4\" type=\"video/mp4\">\n",
       "</video>\n"
      ],
      "text/plain": [
       "<IPython.core.display.HTML object>"
      ]
     },
     "execution_count": 20,
     "metadata": {},
     "output_type": "execute_result"
    }
   ],
   "source": [
    "HTML(\"\"\"\n",
    "<video width=\"640\" height=\"480\" controls>\n",
    "  <source src=\"./slicerRegionGrowing.mp4\" type=\"video/mp4\">\n",
    "</video>\n",
    "\"\"\")"
   ]
  },
  {
   "cell_type": "markdown",
   "metadata": {},
   "source": [
    "Dans cette dernière vidéo, les images de label représentant le cerveau (région verte) et la métastase cérébrale (région couleur chair) ont été fusionnées en une image `multilabel` grâce à la méthode *ITK* `AggregateLabelMap`.\n",
    "\n",
    "Cette dernière image labelisée a permis d'obtenir une scène 3D qu'il est possible d'exporter dans un format d'image utilisable par une imprimante 3D."
   ]
  },
  {
   "cell_type": "markdown",
   "metadata": {},
   "source": [
    "## Autres ressources disponibles sur le NET\n",
    "Il existe des vidéos sur internet qui montrent certains outils. Vous pouvez vous en inspirer pour prendre en main *Slicer*."
   ]
  },
  {
   "cell_type": "code",
   "execution_count": 11,
   "metadata": {
    "collapsed": false
   },
   "outputs": [
    {
     "data": {
      "text/html": [
       "\n",
       "        <iframe\n",
       "            width=\"400\"\n",
       "            height=\"300\"\n",
       "            src=\"https://www.youtube.com/embed/MKLWzD0PiIc\"\n",
       "            frameborder=\"0\"\n",
       "            allowfullscreen\n",
       "        ></iframe>\n",
       "        "
      ],
      "text/plain": [
       "<IPython.lib.display.YouTubeVideo at 0x1123bb590>"
      ]
     },
     "execution_count": 11,
     "metadata": {},
     "output_type": "execute_result"
    }
   ],
   "source": [
    "from IPython.display import YouTubeVideo\n",
    "\n",
    "YouTubeVideo('MKLWzD0PiIc')"
   ]
  },
  {
   "cell_type": "markdown",
   "metadata": {},
   "source": [
    "Cette vidéo en anglais présente l'interface graphique de *Slicer* et montre comment charger un jeu d'image *DICOM* dans cette interface. Ensuite, il est aborder quelques opérations pour réduire le volume (\"Cropping\") et afficher un rendu volumique de la scène.\n",
    "\n",
    "Les opérations de segmentation à l'aide d'opérations de base telles que le seuillage et `Change Island` y sont aussi abordées. \n",
    "\n",
    "La dernière partie consiste à créer un modèle 3D du volume segmenté et de sauvegarder le modèle dans un format uilisable par une imprimante 3D."
   ]
  },
  {
   "cell_type": "code",
   "execution_count": 15,
   "metadata": {
    "collapsed": false
   },
   "outputs": [
    {
     "data": {
      "text/html": [
       "\n",
       "        <iframe\n",
       "            width=\"400\"\n",
       "            height=\"300\"\n",
       "            src=\"https://www.youtube.com/embed/koHKAJWGNhU\"\n",
       "            frameborder=\"0\"\n",
       "            allowfullscreen\n",
       "        ></iframe>\n",
       "        "
      ],
      "text/plain": [
       "<IPython.lib.display.YouTubeVideo at 0x111ee7ed0>"
      ]
     },
     "execution_count": 15,
     "metadata": {},
     "output_type": "execute_result"
    }
   ],
   "source": [
    "YouTubeVideo('koHKAJWGNhU')"
   ]
  },
  {
   "cell_type": "markdown",
   "metadata": {},
   "source": [
    "Cette autre vidéo montre une segmentation élégante des poumons et d'un nodule pulmonaire."
   ]
  },
  {
   "cell_type": "markdown",
   "metadata": {},
   "source": [
    "## Conclusion\n",
    "Ces quelques vidéos devraient vous permettre une prise en main plus aiséé de *slicer*."
   ]
  }
 ],
 "metadata": {
  "kernelspec": {
   "display_name": "Python 2",
   "language": "python",
   "name": "python2"
  },
  "language_info": {
   "codemirror_mode": {
    "name": "ipython",
    "version": 2
   },
   "file_extension": ".py",
   "mimetype": "text/x-python",
   "name": "python",
   "nbconvert_exporter": "python",
   "pygments_lexer": "ipython2",
   "version": "2.7.9"
  }
 },
 "nbformat": 4,
 "nbformat_minor": 0
}
