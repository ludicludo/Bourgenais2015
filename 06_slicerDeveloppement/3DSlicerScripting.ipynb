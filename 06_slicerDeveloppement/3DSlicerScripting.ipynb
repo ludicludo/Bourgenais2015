{
 "cells": [
  {
   "cell_type": "markdown",
   "metadata": {
    "slideshow": {
     "slide_type": "slide"
    }
   },
   "source": [
    "# Slicer 3D \n",
    "# Etape 3 : Scripting python"
   ]
  },
  {
   "cell_type": "markdown",
   "metadata": {
    "slideshow": {
     "slide_type": "skip"
    }
   },
   "source": [
    "Dans ce TD, nous allons appréhender les différentes façons d'interagir avec des données dans *Slicer* par le biais de scripts écrits en *python*"
   ]
  },
  {
   "cell_type": "markdown",
   "metadata": {
    "slideshow": {
     "slide_type": "subslide"
    }
   },
   "source": [
    "* Interactions avec *Slicer 3D*\n",
    "* Scripts en *Python*"
   ]
  },
  {
   "cell_type": "markdown",
   "metadata": {
    "slideshow": {
     "slide_type": "slide"
    }
   },
   "source": [
    "## Utiliser le terminal Python de Slicer 3D\n",
    "\n",
    "* Exploration de *quelques* commandes disponibles dans *Slicer* (parmis celles disponibles)\n",
    "* Interaction avec les données"
   ]
  },
  {
   "cell_type": "markdown",
   "metadata": {
    "slideshow": {
     "slide_type": "subslide"
    }
   },
   "source": [
    "Pour activer la console *Python* embarquée dans *Slicer*, il faut cliquer sur l'icône représentant le sigle *Python*.\n",
    "\n",
    "----\n",
    "![image](./bandeau1.png)\n",
    "\n",
    "----\n",
    "\n",
    "Dans la console, il est possible d'appeler dans l'espace de nommage le module *SimpleITK*.  Par ailleurs, *Slicer* fournit certaines fonctions qui facilitent l'intéraction avec *SimpleITK*, elles sont disponibles dans le module `sitkUtils`."
   ]
  },
  {
   "cell_type": "markdown",
   "metadata": {
    "slideshow": {
     "slide_type": "subslide"
    }
   },
   "source": [
    "```python\n",
    "import SimpleITK as sitk\n",
    "import sitkUtils as su\n",
    "```"
   ]
  },
  {
   "cell_type": "markdown",
   "metadata": {
    "slideshow": {
     "slide_type": "subslide"
    }
   },
   "source": [
    "### Exercice : Afficher l'aide en ligne du module `sitkUtils`"
   ]
  },
  {
   "cell_type": "markdown",
   "metadata": {
    "raw_mimetype": "text/latex",
    "slideshow": {
     "slide_type": "skip"
    }
   },
   "source": [
    "```\n",
    "Help on module sitkUtils:\n",
    "\n",
    "NAME\n",
    "    sitkUtils\n",
    "\n",
    "FILE\n",
    "    /Applications/Slicer.app/Contents/bin/Python/sitkUtils.py\n",
    "\n",
    "FUNCTIONS\n",
    "    AddNodeToMRMLScene(newNode, nodeName='default', overwrite=False)\n",
    "    \n",
    "    CloneSlicerNode(NodeName, NewNodeNamePrefix)\n",
    "        Create a new node in slicer by cloning\n",
    "        from an exising node.\n",
    "    \n",
    "    CreateNewDisplayNode(nodeName='default')\n",
    "        Create a new node from scratch\n",
    "    \n",
    "    CreateNewVolumeNode(nodeName, nodeType='vtkMRMLScalarVolumeNode', overwrite=False)\n",
    "        Create a new node from scratch\n",
    "    \n",
    "    EnsureRegistration()\n",
    "        This is a complete hack, but attempting to read\n",
    "        a dummy file with AddArchetypeVolume\n",
    "        has a side effect of registering\n",
    "        the MRMLImageIO file reader.\n",
    "    \n",
    "    GetSlicerITKReadWriteAddress(NodeName)\n",
    "        This function will return the ITK FileIO formatted text address\n",
    "        so that the image can be read directly from the MRML scene\n",
    "    \n",
    "    PullFromSlicer(NodeName)\n",
    "        Given a slicer MRML image name, return the SimpleITK\n",
    "        image object.\n",
    "    \n",
    "    PushBackground(sitkImage, nodeName, overwrite=False)\n",
    "        # Helper functions\n",
    "    \n",
    "    PushForeground(sitkImage, nodeName, overwrite=False)\n",
    "    \n",
    "    PushLabel(sitkImage, nodeName, overwrite=False)\n",
    "    \n",
    "    PushToSlicer(sitkimage, NodeName, compositeView=0, overwrite=False)\n",
    "        Given a SimpleITK image, push it back to slicer for viewing\n",
    "        ===============================================================\n",
    "        Viewing options\n",
    "        ---------------\n",
    "        bit 0: Set as background image\n",
    "        bit 1: Set as foreground image\n",
    "        bit 2: Set as label image\n",
    "    \n",
    "    checkVolumeNodeType(nodeType)\n",
    "        Raise an error if the node type is not a recognized volume node\n",
    "    \n",
    "    removeOldMRMLNode(node)\n",
    "        Overwrite a MRML node with the same name and class as the given node\n",
    "    \n",
    "    slicerNotes_UnitTest()\n",
    "        ###############\n",
    "        ############### The real work starts here\n",
    "        ###############\n",
    "\n",
    "DATA\n",
    "    __sitk__VOLUME_TYPES__ = ['Scalar'\n",
    "```"
   ]
  },
  {
   "cell_type": "markdown",
   "metadata": {
    "slideshow": {
     "slide_type": "slide"
    }
   },
   "source": [
    "### Exercice : \n",
    "* Charger l'image `e1_T1_Gd.nrrd` dans *Slicer*.\n",
    "* Grâce au module `Data` de *Slicer*, vous pouvez obtenir le nom de l'image chargée. Si vous cliquez sur la coche `Display MRML ID's`, vous faites apparaître les identifiants internes des objets actuellement chargés dans *Slicer*.\n",
    "* A l'aide de la fonction `PullFromSlicer()` du module `SitkUtils` et GetSpacing() de `SimpleITK`, récupérer la taille des pixels de l'image.\n",
    "* A l'aide du filtre [*Otsu*](http://www.labbookpages.co.uk/software/imgProc/otsuThreshold.html) de *SimpleITK*, créer une image binaire, un **masque** dans le jargon (utilisez les paramètres par défaut) et envoyer cette nouvelle image en image d'arrière-plan de *Slicer*."
   ]
  },
  {
   "cell_type": "markdown",
   "metadata": {
    "slideshow": {
     "slide_type": "subslide"
    }
   },
   "source": [
    "----\n",
    "![Cochez la case](./slicerMRMLID-1.png)\n",
    "\n",
    "----"
   ]
  },
  {
   "cell_type": "markdown",
   "metadata": {
    "raw_mimetype": "text/latex",
    "slideshow": {
     "slide_type": "skip"
    }
   },
   "source": [
    "### Solution :\n",
    "```python\n",
    "mrhead = su.PullFromSlicer(\"e1_T1Gd\")\n",
    "print \"la taille des pixels est {0} en mm\".format(mrhead.GetSpacing())\n",
    "mask = sitk.OtsuThreshold(mrhead,1,0)\n",
    "su.PushToSlicer(mask,\"MonMasque\",1)\n",
    "```"
   ]
  },
  {
   "cell_type": "markdown",
   "metadata": {
    "slideshow": {
     "slide_type": "subslide"
    }
   },
   "source": [
    "La réponse est (0.9375, 0.9375, 5.0)"
   ]
  },
  {
   "cell_type": "markdown",
   "metadata": {
    "slideshow": {
     "slide_type": "slide"
    }
   },
   "source": [
    "## Enchainer  des traitements\n",
    "La puissance du script python se révèle lorsque les traitements s'enchainent.  \n",
    "Imaginons que nous voulions extraire les contours de l'image *masque*. Pour cela, nous pourrions utiliser cette algorithme:\n",
    "1. Dilater l'objet masque de 3 pixels\n",
    "2. Eroder le résultat de 3 pixels\n",
    "3. Lancer un filtre de *Sobel* sur cette dernière image.\n",
    "\n",
    "La vidéo suivante en est une illustration. Vous remarquerez que la simplicité des actions mais cela peut être laborieux à la longue."
   ]
  },
  {
   "cell_type": "code",
   "execution_count": 19,
   "metadata": {
    "collapsed": false,
    "slideshow": {
     "slide_type": "subslide"
    }
   },
   "outputs": [
    {
     "data": {
      "text/html": [
       "\n",
       "<video width=\"640\" height=\"480\" controls>\n",
       "  <source src=\"./OperationsChainees.mp4\" type=\"video/mp4\">\n",
       "</video>\n"
      ],
      "text/plain": [
       "<IPython.core.display.HTML object>"
      ]
     },
     "execution_count": 19,
     "metadata": {},
     "output_type": "execute_result"
    }
   ],
   "source": [
    "from IPython.display import IFrame, HTML\n",
    "HTML(\"\"\"\n",
    "<video width=\"640\" height=\"480\" controls>\n",
    "  <source src=\"./OperationsChainees.mp4\" type=\"video/mp4\">\n",
    "</video>\n",
    "\"\"\")"
   ]
  },
  {
   "cell_type": "markdown",
   "metadata": {
    "slideshow": {
     "slide_type": "subslide"
    }
   },
   "source": [
    "## ET SI ON SCRIPTAIT .... HEIN ?\n",
    " "
   ]
  },
  {
   "cell_type": "markdown",
   "metadata": {
    "slideshow": {
     "slide_type": "fragment"
    }
   },
   "source": [
    "Dans la console *Python* de *Slicer*, créeons la fonction suivante :\n",
    "\n",
    "```python\n",
    "def MakeOutline(mask, FillSize):\n",
    "    dilate=sitk.DilateObjectMorphology(mask,FillSize)\n",
    "    erode=sitk.ErodeObjectMorphology(dilate,FillSize)\n",
    "    float_image=sitk.Cast(erode,sitk.sitkFloat32)\n",
    "    edge=sitk.SobelEdgeDetection(float_image)\n",
    "    return edge    \n",
    "```"
   ]
  },
  {
   "cell_type": "markdown",
   "metadata": {
    "slideshow": {
     "slide_type": "subslide"
    }
   },
   "source": [
    "### Exercice : Comment lancer la fonction sur les données du masque otsu ?\n",
    "on suppose que le masque du filtrage *Otsu* se nomme `otsu`."
   ]
  },
  {
   "cell_type": "markdown",
   "metadata": {
    "slideshow": {
     "slide_type": "skip"
    }
   },
   "source": [
    "### Solution :\n",
    "```python\n",
    "edge = MakeOutline(otsu,7)\n",
    "su.PushToSlicer(edge,\"Edge\",1)\n",
    "```"
   ]
  },
  {
   "cell_type": "markdown",
   "metadata": {
    "slideshow": {
     "slide_type": "slide"
    }
   },
   "source": [
    "## Un autre exemple de script ?\n",
    "On peut se servir de la console *Python* pour créer des images d'objets virtuels et y appliquer des opérations mathématiques."
   ]
  },
  {
   "cell_type": "markdown",
   "metadata": {
    "slideshow": {
     "slide_type": "subslide"
    }
   },
   "source": [
    "Le script suivant crée une image d'une sphère et créer 3 images d'une distribution gaussienne 3D caractérisées par différentes variances.\n",
    "```python\n",
    "def makeCircle(size, position):\n",
    "    #  size : rayon en pixels\n",
    "    #  position = origine du cercle\n",
    "     roi = list()\n",
    "     for x in range(-size,size):\n",
    "         for y in range(-size,size):\n",
    "             for z in range(-size,size):\n",
    "                 r = np.sqrt(np.square(x)+np.square(y)+np.square(z))\n",
    "                 if r < size:\n",
    "                     roi.append([position[0]-x,position[1]-y,position[2]-z])\n",
    "     return roi\n",
    "\n",
    "image = sitk.Image(64,64,64,sitk.sitkFloat32)\n",
    "\n",
    "roi = makeCircle(10,(32,32,32))\n",
    "\n",
    "for coord in roi:\n",
    "    image[coord] = 100        \n",
    "\n",
    "su.PushToSlicer(image,\"cercle\",True)\n",
    "\n",
    "for sigma in range(1,9,3):\n",
    "    gsmooth = sitk.DiscreteGaussian(image,sigma,0)\n",
    "    su.PushToSlicer(gsmooth,\"GaussSmooth\"+str(sigma),True) \n",
    "```"
   ]
  },
  {
   "cell_type": "markdown",
   "metadata": {
    "slideshow": {
     "slide_type": "slide"
    }
   },
   "source": [
    "## Créer sa propre interface de traitement"
   ]
  },
  {
   "cell_type": "markdown",
   "metadata": {},
   "source": [
    "Il est souvent intéressant de vouloir manipuler les interactions avec la logique du traitement d'images par le biais de *contrôles graphiques* ( `widget` dans le jargon informatique).  L'apprentissage est un peu plus difficile que la simple intéraction avec la console, mais le résultat est plus `professionnel` et utilisable plus facilement par un public moins averti."
   ]
  },
  {
   "cell_type": "markdown",
   "metadata": {
    "slideshow": {
     "slide_type": "subslide"
    }
   },
   "source": [
    "### Prérequis\n",
    "Il faut tout d'abord valider le **mode developpeur** dans *Slicer* comme montré sur la figure suivante:\n",
    "\n",
    "---\n",
    "![mode developpeur](./SettingsDevel.png)\n",
    "\n",
    "---"
   ]
  },
  {
   "cell_type": "markdown",
   "metadata": {
    "slideshow": {
     "slide_type": "subslide"
    }
   },
   "source": [
    "Cela permet de valider un outil d'aide à la création de modules dans *Slicer* comme montré dans la vidéo suivante."
   ]
  },
  {
   "cell_type": "code",
   "execution_count": 13,
   "metadata": {
    "collapsed": false,
    "slideshow": {
     "slide_type": "subslide"
    }
   },
   "outputs": [
    {
     "data": {
      "text/html": [
       "\n",
       "<video width=\"640\" height=\"380\" controls>\n",
       "  <source src=\"./CreationExtension.mp4\" type=\"video/mp4\">\n",
       "</video>\n"
      ],
      "text/plain": [
       "<IPython.core.display.HTML object>"
      ]
     },
     "execution_count": 13,
     "metadata": {},
     "output_type": "execute_result"
    }
   ],
   "source": [
    "from IPython.display import IFrame, HTML\n",
    "HTML(\"\"\"\n",
    "<video width=\"640\" height=\"80\" controls>\n",
    "  <source src=\"./CreationExtension.mp4\" type=\"video/mp4\">\n",
    "</video>\n",
    "\"\"\")"
   ]
  },
  {
   "cell_type": "markdown",
   "metadata": {
    "slideshow": {
     "slide_type": "subslide"
    }
   },
   "source": [
    "En chargeant le nouveau module, vous voyez  apparaître des `widgets` qui ne font absolument rien pour l'instant.  \n",
    "Il va falloir modifier le code `python` du module qui est situé dans le répertoire choisi à l'étape précédente (cf. la vidéo).\n",
    "\n",
    "---\n",
    "![repertoire contenant le module](./repertoireModuleUn.png)\n",
    "\n",
    "---"
   ]
  },
  {
   "cell_type": "markdown",
   "metadata": {
    "slideshow": {
     "slide_type": "slide"
    }
   },
   "source": [
    "### Analyse du code python\n",
    "Ce code comporte 3 classes (objets).\n",
    "* `moduleUn` qui hérite de la classe parente `ScriptedLoadableModule`\n",
    "* `moduleUnWidget` qui hérite de la classe parente `ScriptedLoadableModuleWidget`  \n",
    "\n",
    "C'est 2 premières classe gèrent les interactions avec l'utilisateur et la partie algorithme et tests sont situés dans 2 autres classes:\n",
    "\n",
    "* `moduleUnLogic` qui hérite de la classe parente `ScriptedLoadableModuleLogic`\n",
    "* `moduleUnTest` qui hérite de la classe parente `ScriptedLoadableModuleTest`"
   ]
  },
  {
   "cell_type": "markdown",
   "metadata": {},
   "source": [
    "### Exercice : Premières modifications\n",
    "Modifier le constructeur de la classe `__init__(self, parent)` de la classe `moduleUn` pour modifier les attributs de la classe. \n",
    "Par exemple, créer votre module dans un répertoire nommé `EPU` comme dans l'exemple ci-dessous :\n",
    "\n",
    "---\n",
    "![module modifié](./moduleModifie.png)\n",
    "\n",
    "---"
   ]
  },
  {
   "cell_type": "markdown",
   "metadata": {
    "slideshow": {
     "slide_type": "skip"
    }
   },
   "source": [
    "### Correction :\n",
    "```python\n",
    "class moduleUn(ScriptedLoadableModule):\n",
    "  \"\"\"Uses ScriptedLoadableModule base class, available at:\n",
    "  https://github.com/Slicer/Slicer/blob/master/Base/Python/slicer/ScriptedLoadableModule.py\n",
    "  \"\"\"\n",
    "\n",
    "  def __init__(self, parent):\n",
    "    ScriptedLoadableModule.__init__(self, parent)\n",
    "    self.parent.title = \"moduleUn\" # TODO make this more human readable by adding spaces\n",
    "    self.parent.categories = [\"EPU\"]\n",
    "    self.parent.dependencies = []\n",
    "    self.parent.contributors = [\"Moi (ICO RG.)\"] # replace with \"Firstname Lastname (Organization)\"\n",
    "    self.parent.helpText = \"\"\"Ma premiere extension qui pue.\"\"\"\n",
    "    self.parent.acknowledgementText = u\"\"\"Desole de vous infliger ca.\"\"\" # replace with organization, grant and thanks.\n",
    "```"
   ]
  },
  {
   "cell_type": "markdown",
   "metadata": {
    "slideshow": {
     "slide_type": "slide"
    }
   },
   "source": [
    "### Exercice : Modification de l'interface graphique\n",
    "Modifier la méthode **`setup`** de la classe **`moduleUnWidget`** pour ressembler à l'image ci-dessous :\n",
    "\n",
    "---\n",
    "\n",
    "![GUI modifiée](./guiModifie.png)\n",
    "\n",
    "---"
   ]
  },
  {
   "cell_type": "markdown",
   "metadata": {
    "slideshow": {
     "slide_type": "skip"
    }
   },
   "source": [
    "### Corrections :\n",
    "Dans la méthode **`setup`**, les modifications apportées sont :\n",
    "```python\n",
    "def setup(self):\n",
    "    ...\n",
    "    parametersCollapsibleButton.text = \"Durcissement\"\n",
    "    ...    \n",
    "```\n",
    "et suppression des lignes de codes relatives aux widgets **`enableScreenshotsFlagCheckBox`** et **`screenshotScaleFactorSliderWidget`**.  \n",
    "```python\n",
    "    ...\n",
    "    self.enableScreenshotsFlagCheckBox = qt.QCheckBox()\n",
    "    self.enableScreenshotsFlagCheckBox.checked = 0\n",
    "    self.enableScreenshotsFlagCheckBox.setToolTip(\"If checked, take screen shots for tutorials. Use Save Data to write them to disk.\")\n",
    "    parametersFormLayout.addRow(\"Enable Screenshots\", self.enableScreenshotsFlagCheckBox)\n",
    "    ...\n",
    "    self.screenshotScaleFactorSliderWidget = ctk.ctkSliderWidget()\n",
    "    self.screenshotScaleFactorSliderWidget.singleStep = 1.0\n",
    "    self.screenshotScaleFactorSliderWidget.minimum = 1.0\n",
    "    self.screenshotScaleFactorSliderWidget.maximum = 50.0\n",
    "    self.screenshotScaleFactorSliderWidget.value = 1.0\n",
    "    self.screenshotScaleFactorSliderWidget.setToolTip(\"Set scale factor for the screen shots.\")\n",
    "    parametersFormLayout.addRow(\"Screenshot scale factor\", self.screenshotScaleFactorSliderWidget)\n",
    "    ...\n",
    "def onApplyButton(self)\n",
    "    ...\n",
    "    enableScreenshotsFlag = self.enableScreenshotsFlagCheckBox.checked\n",
    "    screenshotScaleFactor = int(self.screenshotScaleFactorSliderWidget.value)\n",
    "    ...\n",
    "```"
   ]
  },
  {
   "cell_type": "markdown",
   "metadata": {
    "slideshow": {
     "slide_type": "slide"
    }
   },
   "source": [
    "Le traitement de l'algorithme est lancé par le bais d'un clic sur le bouton `Apply` de l'interface graphique comme le montre le code de la méthode **`onApplyButton`**.\n",
    "```python\n",
    "def onApplyButton(self):\n",
    "    logic = moduleUnLogic()\n",
    "    enableScreenshotsFlag = self.enableScreenshotsFlagCheckBox.checked\n",
    "    screenshotScaleFactor = int(self.screenshotScaleFactorSliderWidget.value)\n",
    "    print(\"Run the algorithm\")\n",
    "    logic.run(self.inputSelector.currentNode(), self.outputSelector.currentNode(), enableScreenshotsFlag,screenshotScaleFactor)\n",
    "```\n",
    "Il faut maintenant supprimer les lignes relatives aux widgets `enableScreenshotsFlagCheckBox` et `screenshotScaleFactorSliderWidget` ainsi que la ligne relative à l'impression d'un message dans la console."
   ]
  },
  {
   "cell_type": "markdown",
   "metadata": {
    "slideshow": {
     "slide_type": "subslide"
    }
   },
   "source": [
    "La nouvelle méthode `onApplyButton` ressemble à :\n",
    "```python\n",
    "def onApplyButton(self):\n",
    "    logic = moduleUnLogic()\n",
    "    logic.run(self.inputSelector.currentNode(), self.outputSelector.currentNode())\n",
    "```"
   ]
  },
  {
   "cell_type": "markdown",
   "metadata": {
    "slideshow": {
     "slide_type": "slide"
    }
   },
   "source": [
    "## Implémentation de l'algorithme du code\n",
    "Comme le montre le code de la méthode `onApplyButton` de la class `moduleUnWidget`, l'algorithme est lancé par la méthode **`run(args)`** de la classe **`moduleUnLogic`**.\n",
    "\n",
    "La classe `moduleUnLogic` contient 3 méthodes :\n",
    "* hasImageData qui sert à valider le type d'image entrée et renvoie les valeurs `True/False`\n",
    "* takeScreenShot (qui ne sert plus à rien maintenant)\n",
    "* run qui est responsable du lancement de l'algorithme et renvoie la valeur `True` en fin d'execution."
   ]
  },
  {
   "cell_type": "markdown",
   "metadata": {
    "slideshow": {
     "slide_type": "subslide"
    }
   },
   "source": [
    "La classe `moduleUnLogic` doit ressembler à cela maintenant :\n",
    "```python\n",
    "class moduleUnLogic(ScriptedLoadableModuleLogic):\n",
    "  \"\"\"This class should implement all the actual\n",
    "  computation done by your module.  The interface\n",
    "  should be such that other python code can import\n",
    "  this class and make use of the functionality without\n",
    "  requiring an instance of the Widget.\n",
    "  Uses ScriptedLoadableModuleLogic base class, available at:\n",
    "  https://github.com/Slicer/Slicer/blob/master/Base/Python/slicer/ScriptedLoadableModule.py\n",
    "  \"\"\"\n",
    "\n",
    "  def hasImageData(self,volumeNode):\n",
    "    \"\"\"This is a dummy logic method that\n",
    "    returns true if the passed in volume\n",
    "    node has valid image data\n",
    "    \"\"\"\n",
    "    if not volumeNode:\n",
    "      print('no volume node')\n",
    "      return False\n",
    "    if volumeNode.GetImageData() == None:\n",
    "      print('no image data')\n",
    "      return False\n",
    "    return True\n",
    "\n",
    "  def run(self,inputVolume,outputVolume):\n",
    "    \"\"\"\n",
    "    Run the actual algorithm\n",
    "    \"\"\"\n",
    "    print(\"Run the algorithm\")\n",
    "    return True\n",
    "```"
   ]
  },
  {
   "cell_type": "markdown",
   "metadata": {
    "slideshow": {
     "slide_type": "subslide"
    }
   },
   "source": [
    "Relancer *Slicer* et vérifier dans la console *python* que vous n'avez pas de messages d'erreurs suite aux modifications que vous avez apportées.\n",
    "Lancer votre module `moduleUn` avec une image d'entrée. Sélectionner une image de sortie et cliquer sur le bouton `Apply`.\n",
    "\n",
    "Dans la console vous devriez avoir le message suivant:\n",
    "\n",
    "---\n",
    "![Tout s'est bien passé!](./console1.png)\n",
    "\n",
    "---"
   ]
  },
  {
   "cell_type": "markdown",
   "metadata": {
    "slideshow": {
     "slide_type": "subslide"
    }
   },
   "source": [
    "Implémentons maintenant un filtre Laplacien sur l'image d'entrée. Nous allons faire cela dans la méthode `run` de la classe `moduleUnLogic`."
   ]
  },
  {
   "cell_type": "markdown",
   "metadata": {
    "slideshow": {
     "slide_type": "subslide"
    }
   },
   "source": [
    "### Exercice : Filtrage Laplacien avec SimpleITK\n",
    "Le code suivant est le code nécessaire pour récupérer l'image d'entrée \n",
    "```python\n",
    "  def run(self,inputVolume,outputVolume):\n",
    "    \"\"\"\n",
    "    Run the actual algorithm\n",
    "    \"\"\"\n",
    "    print(\"Run the algorithm\")\n",
    "    imageTmp = sitkUtils.GetSlicerITKReadWriteAddress(inputVolume.GetName())\n",
    "    #\n",
    "    #      VOTRE CODE ICI\n",
    "    #      vous appelerez l'image de sortie du filtre laplacien par exemple\n",
    "    #\n",
    "    nodeWriteAddress = sitkUtils.GetSlicerITKReadWriteAddress(outputVolume.GetName())\n",
    "    sitk.WriteImage(laplacien,nodeWriteAddress)\n",
    "    # fait en sortee que le volume de sortie apparait dans toutes les vues.\n",
    "    selectionNode = slicer.app.applicationLogic().GetSelectionNode()\n",
    "    selectionNode.SetReferenceActiveVolumeID(outputVolume.GetID())\n",
    "    slicer.app.applicationLogic().PropagateVolumeSelection(1)\n",
    "    return True\n",
    "```"
   ]
  },
  {
   "cell_type": "markdown",
   "metadata": {
    "slideshow": {
     "slide_type": "skip"
    }
   },
   "source": [
    "### Correction :\n",
    "ça tient en une ligne !\n",
    "```python\n",
    "laplacien = sitk.Laplacian(sitk.Cast(sitk.ReadImage(imageTmp,sitk.sitkFloat)))\n",
    "```"
   ]
  },
  {
   "cell_type": "markdown",
   "metadata": {
    "collapsed": true,
    "raw_mimetype": "text/x-python",
    "slideshow": {
     "slide_type": "skip"
    }
   },
   "source": [
    "```python\n",
    "\n",
    "import slicer\n",
    "slicer.mrmlScene.GetFirstNodeByName('LinearTransform_3')\n",
    "trans = slicer.mrmlScene.GetFirstNodeByName('LinearTransform_3')\n",
    "trans.GetName()\n",
    "p = trans.GetTransformFromParent()\n",
    "p\n",
    "p.GetLinearInverse()\n",
    "p.GetMatrix()\n",
    "p.GetPosition() #(-14.0, 30.0, 22.0)\n",
    "p.GetScale() #(1.0, 1.0, 1.0)\n",
    "p.Translate((-1,3,5))\n",
    "p.Update()\n",
    "p.GetPosition() #(-15.0, 33.0, 27.0)\n",
    "m = p.GetMatrix()\n",
    "m.GetElement(0,0) #1.0\n",
    "m.GetElement(0,1) #0.0\n",
    "m.GetElement(0,3) #-15.0\n",
    "m.GetElement(1,3) #33.0\n",
    "m.GetElement(2,3) #27.0\n",
    "m.GetElement(3,3) #1.0\n",
    "p.GetPosition() #(-15.0, 33.0, 27.0)\n",
    "trans.SetMatrixTransformToParent(m)\n",
    "```"
   ]
  },
  {
   "cell_type": "markdown",
   "metadata": {
    "collapsed": false,
    "slideshow": {
     "slide_type": "skip"
    }
   },
   "source": [
    "```python\n",
    "import slicer\n",
    "out_trans = slicer.vtkMRMLLinearTransformNode()\n",
    "out_trans.SetName('init')\n",
    "slicer.mrmlScene.AddNode(outout_trans)\n",
    "out_trans.GetID()\n",
    "```"
   ]
  },
  {
   "cell_type": "markdown",
   "metadata": {
    "slideshow": {
     "slide_type": "skip"
    }
   },
   "source": [
    "```python\n",
    "import os\n",
    "import unittest\n",
    "from __main__ import vtk, qt, ctk, slicer\n",
    "from slicer.ScriptedLoadableModule import *\n",
    "\n",
    "class LineIntensityProfile(ScriptedLoadableModule):\n",
    "  \"\"\"On dérive la classe parent ScriptedLoadableModule\n",
    "  \"\"\"\n",
    "\n",
    "  def __init__(self, parent):\n",
    "    ScriptedLoadableModule.__init__(self, parent) # initialisation du constructeur du parent.\n",
    "    self.parent.title = \"LineIntensityProfile\" # TODO make this more human readable by adding spaces\n",
    "    self.parent.categories = [\"Examples\"]\n",
    "    self.parent.dependencies = []\n",
    "    self.parent.contributors = [\"Votre nom (votre employeur... ce que vous voulez)\"] \n",
    "    self.parent.helpText = \"\"\"\n",
    "    mettez ce qui peut permettre d'aider les utilisateurs.\n",
    "    \"\"\"\n",
    "    self.parent.acknowledgementText = \"\"\"\n",
    "    This file was originally developed by Jean-Christophe Fillion-Robin, Kitware Inc.\n",
    "    and Steve Pieper, Isomics, Inc. and was partially funded by NIH grant 3P41RR013218-12S1.\n",
    "\"\"\" # replace with organization, grant and thanks.\n",
    "```"
   ]
  }
 ],
 "metadata": {
  "celltoolbar": "Slideshow",
  "kernelspec": {
   "display_name": "Python 2",
   "language": "python",
   "name": "python2"
  },
  "language_info": {
   "codemirror_mode": {
    "name": "ipython",
    "version": 2
   },
   "file_extension": ".py",
   "mimetype": "text/x-python",
   "name": "python",
   "nbconvert_exporter": "python",
   "pygments_lexer": "ipython2",
   "version": "2.7.9"
  }
 },
 "nbformat": 4,
 "nbformat_minor": 0
}
