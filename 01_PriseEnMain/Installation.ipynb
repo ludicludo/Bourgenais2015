{
 "cells": [
  {
   "cell_type": "markdown",
   "metadata": {
    "slideshow": {
     "slide_type": "slide"
    }
   },
   "source": [
    "\n",
    "# Installation de votre espace de travail"
   ]
  },
  {
   "cell_type": "markdown",
   "metadata": {
    "slideshow": {
     "slide_type": "subslide"
    }
   },
   "source": [
    "Ce document présente brièvement les outils avec lesquels vous allez travailler durant les sessions de TP/TD et leur mode d'installation. \n",
    "\n",
    "Nous utiliserons principalement le **language de programmation** simple à apprendre et à utiliser : [*python*](https://www.python.org). Pour les aspects **traitement d'images** nous utiliserons une bibliothèque de traitement d'images [*SimpleITK*](http://simpleitk.org) de la société *Kitware*.\n"
   ]
  },
  {
   "cell_type": "markdown",
   "metadata": {
    "slideshow": {
     "slide_type": "slide"
    }
   },
   "source": [
    "## L'interpréteur python\n",
    "Python est un language de programmation *interprété*, cela veut dire qu'il n'est pas nécessaire de compiler votre programme pour executer les codes que vous auriez crées, simplifiant ainsi le processus de développement. C'est un language moderne (1989 [Van Rossum](http://fr.wikipedia.org/wiki/Guido_van_Rossum)) qui permet le développement avec une [approche procédurale](http://fr.wikipedia.org/wiki/Programmation_procédurale) ou bien [objet](http://fr.wikipedia.org/wiki/Programmation_orientée_objet) ( et voire même, par certains aspects, [fonctionnelle](http://fr.wikipedia.org/wiki/Programmation_fonctionnelle) grâce au faible typage des données). De plus, ce language est gratuitement disponible pour de nombreux systèmes d'exploitations tels que Windows, Linux, macOSX et bien d'autres.\n",
    "\n",
    "La bibliothèque standard et les paquetages disponibles simplifient grandement le développement d'applications aux fonctionnalités très puissantes et cela en très peu de lignes de codes.\n"
   ]
  },
  {
   "cell_type": "markdown",
   "metadata": {
    "slideshow": {
     "slide_type": "subslide"
    }
   },
   "source": [
    "### Installation\n",
    "Le language python se décline en 2 versions stables actuellement : 2.7.10 et 3.4.3. Nous utiliserons au cours des prochains TD/TPs la version 2 du language car il existe un plus grand nombre de bibliothèques développées sous cette version que sous la version 3. Les différences entre les 2 versions du language sortent du cadre de notre propos et  nous n'aborderons pas ces aspects."
   ]
  },
  {
   "cell_type": "markdown",
   "metadata": {
    "slideshow": {
     "slide_type": "subslide"
    }
   },
   "source": [
    "#### Windows, MacosX, Linux/Unix\n",
    "Pour installer *python* sur votre ordinateur, vous pouvez utiliser la dernier version stable de [python2](https://www.python.org/downloads/release/python-2710/) disponible pour votre système d'exploitation. A noter que sous certains système, il existe des versions 32 et 64 bits, donc vérifiez bien de quel type est votre système d'exploitation. \n",
    "\n",
    "A noter que la distribution [`anaconda`](http://continuum.io/downloads) fournit une version de python livré avec près de 200 paquets populaires dans les domaines scientifiques, ingénierie et analyse de données.\n"
   ]
  },
  {
   "cell_type": "markdown",
   "metadata": {
    "slideshow": {
     "slide_type": "slide"
    }
   },
   "source": [
    "\n",
    "## Ipython\n",
    "Il existe un interpreteur python qui possède des fonctionnalités étendues par rapport à la distribution standard qui simplifient encore plus le prototypage d'applications. Son nom est [*Ipython*](http://ipython.org). Un des fonctionnalités particulièrement intéressante est son interaction avec une interface web qui permet de créer très facilement des *cahiers de notes* (*notebook* en anglais et dans la suite de ce document) de façon très similaire à ce que peuvent produire des logiciels *propriétaires* tels que [mathematica](http://www.wolfram.com/mathematica/) ou [mapple](http://www.maplesoft.com) (le prix en moins puisque *python* est gratuit :)). Nous illustrerons ces fonctionnalités dans les différents exercices qui seront réalisés.\n",
    "### Installation\n",
    "Pour installer la dernière version d'*Ipython*, vous pouvez utiliser par exemple le gestionnaire de paquet `pip`. Dans un terminal, tapez la commande:\n",
    "```\n",
    "pip install jupyter\n",
    "```\n",
    "Cela installera tous les dépendances nécessaires au fonctionnement d'*Ipython* et notamment la version *notebook*.\n",
    "\n",
    "A noter que suivant les droits d'accès sur les répértoires *sensible* de votre système d'exploitation, vous serez peut-être obliger de passer en mode *administrateur*."
   ]
  },
  {
   "cell_type": "markdown",
   "metadata": {
    "slideshow": {
     "slide_type": "slide"
    }
   },
   "source": [
    "## SimpleITK\n",
    "Dans un terminal, la commande \n",
    "```\n",
    "$ pip install -f http://www.simpleitk.org/SimpleITK/resources/software.html SimpleITK\n",
    "```\n",
    "installera la dernière version de la bibliothèque.\n",
    "\n",
    "Dans le cas où vous ayiez un message d'erreur, récupérer le fichier au format <abbr title='format des paquetages python pour pip'>`wheel`</abbr> correspondant à votre version de système d'exploitation sur la page http://www.simpleitk.org/SimpleITK/resources/software.html.\n",
    "Ensuite, lancez la commande suivante dans le répertoire dans lequel vous avez récupéré le fichier au format `wheel`\n",
    "```\n",
    "$ pip install LeNomDuFichierRécupéré\n",
    "```"
   ]
  },
  {
   "cell_type": "markdown",
   "metadata": {
    "slideshow": {
     "slide_type": "subslide"
    }
   },
   "source": [
    "### Vérification de l'installation\n",
    "Pour lancer l'interpreteur ipython, dans un terminal tapez la commande :\n",
    "```\n",
    "$ ipython\n",
    "\n",
    "```\n",
    "\n",
    "Dans le shell ipython, tapez la commande : \n",
    "```\n",
    "[1] import SimpleITK as sitk\n",
    "[2] print(sitk.Version()) ```\n",
    "\n",
    "\n",
    "Si tout se passe bien, vous devriez avoir la sortie suivante :\n",
    "```\n",
    "SimpleITK Version: 0.9.0 ```"
   ]
  },
  {
   "cell_type": "markdown",
   "metadata": {
    "slideshow": {
     "slide_type": "subslide"
    }
   },
   "source": [
    "Par défaut, SimpleITK recherche comme outil de visualisation d'images l'application <a href=\"http://imagej.net/Welcome\">ImageJ</a>\n",
    "Si vous voulez utiliser un autre outil (i.e. ITK-SNAP or 3D Slicer), vous devez définir une variable d'environnement qui y pointe. Cela peut se faire à l'interieur d'un notebook comme dans la cellule suivante."
   ]
  },
  {
   "cell_type": "code",
   "execution_count": 1,
   "metadata": {
    "collapsed": false,
    "slideshow": {
     "slide_type": "subslide"
    }
   },
   "outputs": [],
   "source": [
    "import SimpleITK as sitk\n",
    "# Uncomment the line below to change the default external viewer to your viewer of choice and test that it works.\n",
    "#%env SITK_SHOW_COMMAND /Applications/ITK-SNAP.app/Contents/MacOS/ITK-SNAP \n",
    "\n",
    "# Retrieve an image from the network, read it and display using the external viewer\n",
    "sitk.Show(sitk.ReadImage((\"SimpleITK.jpg\")))"
   ]
  }
 ],
 "metadata": {
  "kernelspec": {
   "display_name": "Python 2",
   "language": "python",
   "name": "python2"
  },
  "language_info": {
   "codemirror_mode": {
    "name": "ipython",
    "version": 2
   },
   "file_extension": ".py",
   "mimetype": "text/x-python",
   "name": "python",
   "nbconvert_exporter": "python",
   "pygments_lexer": "ipython2",
   "version": "2.7.9"
  }
 },
 "nbformat": 4,
 "nbformat_minor": 0
}
