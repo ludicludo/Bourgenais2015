{
 "cells": [
  {
   "cell_type": "markdown",
   "metadata": {
    "slideshow": {
     "slide_type": "slide"
    }
   },
   "source": [
    "# Prise en main de Jupyter et des notebooks"
   ]
  },
  {
   "cell_type": "markdown",
   "metadata": {
    "slideshow": {
     "slide_type": "slide"
    }
   },
   "source": [
    "## Jupyter\n",
    "\n",
    "Dans ce document, nous ne couvrirons pas les notebooks en profondeur, mais uniquement les fonctions basiques dont vous aurez besoin au cours des travaux pratiques.\n",
    "\n",
    "Dans un terminal, créer un répertoire de travail `Mes_TD_EPU` par exemple. Puis déplacer vous dans ce répertoire et taper la commande suivante :\n",
    "\n",
    "```\n",
    "jupyter notebook\n",
    "```"
   ]
  },
  {
   "cell_type": "markdown",
   "metadata": {
    "slideshow": {
     "slide_type": "subslide"
    }
   },
   "source": [
    "Cela va ouvrir une nouvelle page dans votre explorateur web favori comme celle-ci:\n",
    "***\n",
    "![image](./TDjupyter1.png)\n",
    "***"
   ]
  },
  {
   "cell_type": "markdown",
   "metadata": {
    "slideshow": {
     "slide_type": "subslide"
    }
   },
   "source": [
    "Vous pouvez créer un nouveau notebook en cliquant sur le menu `Python 2` du menu déroulant lié au bouton `New` placé à droite de la barre d'outils. \n",
    "***\n",
    "![image](./TDjupyter2.png)\n",
    "***"
   ]
  },
  {
   "cell_type": "markdown",
   "metadata": {
    "slideshow": {
     "slide_type": "subslide"
    }
   },
   "source": [
    "Une nouvelle fenêtre apparaît à l'écran telle que ci-dessous et avec laquelle vous pouvez intéragir par l'intermédiaire de *cellules*.\n",
    "***\n",
    "![image](./TDjupyter3.png)\n",
    "***"
   ]
  },
  {
   "cell_type": "markdown",
   "metadata": {
    "slideshow": {
     "slide_type": "subslide"
    }
   },
   "source": [
    "En guise d'échauffement, je vous laisse trouver le moyen de changer le nom par défaut attribué par le système et de sauvegarder votre notebook avec le nom de votre choix."
   ]
  },
  {
   "cell_type": "markdown",
   "metadata": {
    "slideshow": {
     "slide_type": "slide"
    }
   },
   "source": [
    "## Les cellules des notebooks\n",
    "La cellule permet de rentrer du code python ou bien du texte formaté selon un language balisé nommé [*Markdown*](http://fr.wikipedia.org/wiki/Markdown) qui permet de simplifier l'écriture de texte au format html.\n",
    "\n",
    "La bascule d'un mode à l'autre se fait par l'intermédiaire du bouton à menu déroulant `code`. Il suffit de sélectionner la ligne *Markdown* pour pouvoir éditer du texte ou bien *code* pour entrer du code python."
   ]
  },
  {
   "cell_type": "markdown",
   "metadata": {
    "slideshow": {
     "slide_type": "subslide"
    }
   },
   "source": [
    "### Exercice 1:\n",
    "* Dans une première cellule, calculer la somme de 2 + 2. \n",
    "* Dans une seconde cellule (je vous laisse trouver comment la créer), vous écrirez le texte suivant : \n",
    "> Le notebook de Ipython, c'est super cool!"
   ]
  },
  {
   "cell_type": "markdown",
   "metadata": {},
   "source": [
    "<div class=\"alert alert-info\">\n",
    "<b>Il est intéressant de noter</b> que les cellules embarquant du code peuvent acceptent d'autres languages que *Python*.<br>\n",
    "Il est en effet possible de lancer des codes en language *Julia* et *R* (d'où l'acronyme Ju+Pyt+R). Actuellement, près d'une quarantaine de language serait supportée.\n",
    "</div>\n",
    "Vous pouvez vous référer aux ressources externes listées çi-dessous pour de plus amples informations."
   ]
  },
  {
   "cell_type": "markdown",
   "metadata": {
    "slideshow": {
     "slide_type": "slide"
    }
   },
   "source": [
    "## Ressources externes\n",
    "Il existe de nombreux tutoriels à travers la toile très bien faits qui explorent les fonctionnalités des notebooks de Jupyter. Par exemple, ces quelques vidéos traitent des fonctionnalités offertes :"
   ]
  },
  {
   "cell_type": "code",
   "execution_count": 13,
   "metadata": {
    "collapsed": false,
    "slideshow": {
     "slide_type": "subslide"
    }
   },
   "outputs": [
    {
     "data": {
      "text/html": [
       "\n",
       "        <iframe\n",
       "            width=\"400\"\n",
       "            height=\"300\"\n",
       "            src=\"https://www.youtube.com/embed/oP9Qcjq8UVI\"\n",
       "            frameborder=\"0\"\n",
       "            allowfullscreen\n",
       "        ></iframe>\n",
       "        "
      ],
      "text/plain": [
       "<IPython.lib.display.YouTubeVideo at 0x1092e86d0>"
      ]
     },
     "execution_count": 13,
     "metadata": {},
     "output_type": "execute_result"
    }
   ],
   "source": [
    "from IPython.display import YouTubeVideo\n",
    "YouTubeVideo('oP9Qcjq8UVI')"
   ]
  },
  {
   "cell_type": "markdown",
   "metadata": {},
   "source": [
    "La page web suivante (extraite de la vidéo précédente) montre certaines fonctionnalités des notebooks *Jupyter*."
   ]
  },
  {
   "cell_type": "code",
   "execution_count": 23,
   "metadata": {
    "collapsed": true,
    "slideshow": {
     "slide_type": "subslide"
    }
   },
   "outputs": [
    {
     "data": {
      "text/html": [
       "\n",
       "        <iframe\n",
       "            width=\"1000\"\n",
       "            height=\"800\"\n",
       "            src=\"http://www.nature.com/news/ipython-interactive-demo-7.21492?article=1.16261\"\n",
       "            frameborder=\"0\"\n",
       "            allowfullscreen\n",
       "        ></iframe>\n",
       "        "
      ],
      "text/plain": [
       "<IPython.lib.display.IFrame at 0x111775b90>"
      ]
     },
     "execution_count": 23,
     "metadata": {},
     "output_type": "execute_result"
    }
   ],
   "source": [
    "from IPython.display import IFrame\n",
    "IFrame('http://www.nature.com/news/ipython-interactive-demo-7.21492?article=1.16261',1000,800)"
   ]
  },
  {
   "cell_type": "code",
   "execution_count": 20,
   "metadata": {
    "collapsed": false,
    "slideshow": {
     "slide_type": "subslide"
    }
   },
   "outputs": [
    {
     "data": {
      "text/html": [
       "\n",
       "        <iframe\n",
       "            width=\"400\"\n",
       "            height=\"300\"\n",
       "            src=\"https://www.youtube.com/embed/xe_ATRmw0KM\"\n",
       "            frameborder=\"0\"\n",
       "            allowfullscreen\n",
       "        ></iframe>\n",
       "        "
      ],
      "text/plain": [
       "<IPython.lib.display.YouTubeVideo at 0x111775410>"
      ]
     },
     "execution_count": 20,
     "metadata": {},
     "output_type": "execute_result"
    }
   ],
   "source": [
    "YouTubeVideo('xe_ATRmw0KM')"
   ]
  },
  {
   "cell_type": "code",
   "execution_count": 21,
   "metadata": {
    "collapsed": false,
    "slideshow": {
     "slide_type": "subslide"
    }
   },
   "outputs": [
    {
     "data": {
      "text/html": [
       "\n",
       "        <iframe\n",
       "            width=\"400\"\n",
       "            height=\"300\"\n",
       "            src=\"https://www.youtube.com/embed/A8VbS-YX2Lo\"\n",
       "            frameborder=\"0\"\n",
       "            allowfullscreen\n",
       "        ></iframe>\n",
       "        "
      ],
      "text/plain": [
       "<IPython.lib.display.YouTubeVideo at 0x1117752d0>"
      ]
     },
     "execution_count": 21,
     "metadata": {},
     "output_type": "execute_result"
    }
   ],
   "source": [
    "YouTubeVideo('A8VbS-YX2Lo')"
   ]
  },
  {
   "cell_type": "code",
   "execution_count": 14,
   "metadata": {
    "collapsed": false,
    "scrolled": true,
    "slideshow": {
     "slide_type": "subslide"
    }
   },
   "outputs": [
    {
     "data": {
      "text/html": [
       "\n",
       "        <iframe\n",
       "            width=\"400\"\n",
       "            height=\"300\"\n",
       "            src=\"https://www.youtube.com/embed/4tJKZWWRs6s\"\n",
       "            frameborder=\"0\"\n",
       "            allowfullscreen\n",
       "        ></iframe>\n",
       "        "
      ],
      "text/plain": [
       "<IPython.lib.display.YouTubeVideo at 0x1092e8910>"
      ]
     },
     "execution_count": 14,
     "metadata": {},
     "output_type": "execute_result"
    }
   ],
   "source": [
    "YouTubeVideo('4tJKZWWRs6s')"
   ]
  }
 ],
 "metadata": {
  "kernelspec": {
   "display_name": "Python 2",
   "language": "python",
   "name": "python2"
  },
  "language_info": {
   "codemirror_mode": {
    "name": "ipython",
    "version": 2
   },
   "file_extension": ".py",
   "mimetype": "text/x-python",
   "name": "python",
   "nbconvert_exporter": "python",
   "pygments_lexer": "ipython2",
   "version": "2.7.9"
  }
 },
 "nbformat": 4,
 "nbformat_minor": 0
}
