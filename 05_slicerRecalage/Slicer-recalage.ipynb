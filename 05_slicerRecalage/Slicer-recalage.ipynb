{
 "cells": [
  {
   "cell_type": "markdown",
   "metadata": {},
   "source": [
    "# SLICER 3D\n",
    "# RECALAGE"
   ]
  },
  {
   "cell_type": "markdown",
   "metadata": {},
   "source": [
    "Nous allons réaliser un recalage d'images entre 2 les jeux de données utilisées dans le TP de recalage [précédent](./recalage.ipynb), mais cette fois-ci à l'aide de l'application *Slicer*. Je vous laisse regarder le [cahier dédié](./slicerPrimer.ipynb) à la prise en main de Slicer pour les premiers pas.\n",
    "\n",
    "La vidéo suivante vous montre comment réaliser un recalage entre 2 images IRM cérébrales d'un même patient. Les différentes étapes consistent :\n",
    "* Chargement des images fixe et mobile\n",
    "* Recalage manuel des 2 images avec l'outil `Transform` pour aider au futur recalage automatique\n",
    "* Recalage automatique à l'aide du module de recalage générique `General Registration (BRAINS)`"
   ]
  },
  {
   "cell_type": "code",
   "execution_count": 3,
   "metadata": {
    "collapsed": false
   },
   "outputs": [
    {
     "data": {
      "text/html": [
       "\n",
       "<video width=\"640\" height=\"480\" controls>\n",
       "  <source src=\"./slicerRecalage.mp4\" type=\"video/mp4\">\n",
       "</video>\n"
      ],
      "text/plain": [
       "<IPython.core.display.HTML object>"
      ]
     },
     "execution_count": 3,
     "metadata": {},
     "output_type": "execute_result"
    }
   ],
   "source": [
    "from IPython.display import IFrame, HTML\n",
    "HTML(\"\"\"\n",
    "<video width=\"640\" height=\"480\" controls>\n",
    "  <source src=\"./slicerRecalage.mp4\" type=\"video/mp4\">\n",
    "</video>\n",
    "\"\"\")"
   ]
  }
 ],
 "metadata": {
  "kernelspec": {
   "display_name": "Python 2",
   "language": "python",
   "name": "python2"
  },
  "language_info": {
   "codemirror_mode": {
    "name": "ipython",
    "version": 2
   },
   "file_extension": ".py",
   "mimetype": "text/x-python",
   "name": "python",
   "nbconvert_exporter": "python",
   "pygments_lexer": "ipython2",
   "version": "2.7.9"
  }
 },
 "nbformat": 4,
 "nbformat_minor": 0
}
